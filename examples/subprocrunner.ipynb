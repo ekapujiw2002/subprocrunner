{
 "cells": [
  {
   "cell_type": "code",
   "execution_count": 1,
   "metadata": {
    "collapsed": true,
    "deletable": true,
    "editable": true
   },
   "outputs": [],
   "source": [
    "from __future__ import print_function"
   ]
  },
  {
   "cell_type": "code",
   "execution_count": 2,
   "metadata": {
    "collapsed": false,
    "deletable": true,
    "editable": true
   },
   "outputs": [
    {
     "name": "stdout",
     "output_type": "stream",
     "text": [
      "command: echo test\n",
      "return code: 0\n",
      "stdout: test\n",
      "\n",
      "command: ls __not_exist_dir__\n",
      "return code: 2\n",
      "stderr: ls: cannot access '__not_exist_dir__': No such file or directory\n",
      "\n"
     ]
    }
   ],
   "source": [
    "from subprocrunner import SubprocessRunner\n",
    "\n",
    "runner = SubprocessRunner(\"echo test\")\n",
    "print(\"command: {:s}\".format(runner.command))\n",
    "print(\"return code: {:d}\".format(runner.run()))\n",
    "print(\"stdout: {:s}\".format(runner.stdout))\n",
    "\n",
    "runner = SubprocessRunner(\"ls __not_exist_dir__\")\n",
    "print(\"command: {:s}\".format(runner.command))\n",
    "print(\"return code: {:d}\".format(runner.run()))\n",
    "print(\"stderr: {:s}\".format(runner.stderr))\n"
   ]
  },
  {
   "cell_type": "code",
   "execution_count": 3,
   "metadata": {
    "collapsed": false,
    "deletable": true,
    "editable": true
   },
   "outputs": [
    {
     "name": "stdout",
     "output_type": "stream",
     "text": [
      "echo hoge\n",
      "echo foo\n"
     ]
    }
   ],
   "source": [
    "from subprocrunner import SubprocessRunner\n",
    "\n",
    "SubprocessRunner.clear_history()\n",
    "SubprocessRunner.is_save_history = True\n",
    "\n",
    "SubprocessRunner(\"echo hoge\").run()\n",
    "SubprocessRunner(\"echo foo\").run()\n",
    "\n",
    "print(\"\\n\".join(SubprocessRunner.get_history()))\n"
   ]
  },
  {
   "cell_type": "code",
   "execution_count": null,
   "metadata": {
    "collapsed": true
   },
   "outputs": [],
   "source": []
  }
 ],
 "metadata": {
  "kernelspec": {
   "display_name": "Python 2",
   "language": "python",
   "name": "python2"
  },
  "language_info": {
   "codemirror_mode": {
    "name": "ipython",
    "version": 2
   },
   "file_extension": ".py",
   "mimetype": "text/x-python",
   "name": "python",
   "nbconvert_exporter": "python",
   "pygments_lexer": "ipython2",
   "version": "2.7.12"
  }
 },
 "nbformat": 4,
 "nbformat_minor": 0
}
