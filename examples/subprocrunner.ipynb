{
 "cells": [
  {
   "cell_type": "code",
   "execution_count": 1,
   "metadata": {
    "collapsed": true
   },
   "outputs": [],
   "source": [
    "from __future__ import print_function"
   ]
  },
  {
   "cell_type": "code",
   "execution_count": 2,
   "metadata": {
    "collapsed": false
   },
   "outputs": [
    {
     "name": "stdout",
     "output_type": "stream",
     "text": [
      "return code: 0\n",
      "\n",
      "[stdout]\n",
      "test\n",
      "\n",
      "[stderr]\n",
      "\n"
     ]
    }
   ],
   "source": [
    "from subprocrunner import SubprocessRunner\n",
    "\n",
    "runner = SubprocessRunner(\"echo test\")\n",
    "print(\"return code: {:d}\\n\".format(runner.run()))\n",
    "print(\"[stdout]\\n{}\".format(runner.stdout))\n",
    "print(\"[stderr]\\n{}\".format(runner.stderr))\n"
   ]
  },
  {
   "cell_type": "code",
   "execution_count": 3,
   "metadata": {
    "collapsed": false
   },
   "outputs": [
    {
     "name": "stdout",
     "output_type": "stream",
     "text": [
      "return code: 2\n",
      "\n",
      "[stdout]\n",
      "\n",
      "[stderr]\n",
      "ls: cannot access '__not_exist_dir__': No such file or directory\n"
     ]
    }
   ],
   "source": [
    "from subprocrunner import SubprocessRunner\n",
    "\n",
    "runner = SubprocessRunner(\"ls __not_exist_dir__\")\n",
    "print(\"return code: {:d}\\n\".format(runner.run()))\n",
    "print(\"[stdout]\\n{}\".format(runner.stdout))\n",
    "print(\"[stderr]\\n{}\".format(runner.stderr))\n"
   ]
  },
  {
   "cell_type": "code",
   "execution_count": null,
   "metadata": {
    "collapsed": true
   },
   "outputs": [],
   "source": []
  }
 ],
 "metadata": {
  "kernelspec": {
   "display_name": "Python 2",
   "language": "python",
   "name": "python2"
  },
  "language_info": {
   "codemirror_mode": {
    "name": "ipython",
    "version": 2
   },
   "file_extension": ".py",
   "mimetype": "text/x-python",
   "name": "python",
   "nbconvert_exporter": "python",
   "pygments_lexer": "ipython2",
   "version": "2.7.12"
  }
 },
 "nbformat": 4,
 "nbformat_minor": 0
}
